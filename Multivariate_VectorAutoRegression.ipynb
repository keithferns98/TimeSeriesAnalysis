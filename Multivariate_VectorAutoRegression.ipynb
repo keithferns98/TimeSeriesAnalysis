{
  "nbformat": 4,
  "nbformat_minor": 0,
  "metadata": {
    "colab": {
      "name": "Multivariate-VectorAutoRegression.ipynb",
      "provenance": [],
      "authorship_tag": "ABX9TyNN+vuuD0fzZmpoH35+n+MW",
      "include_colab_link": true
    },
    "kernelspec": {
      "name": "python3",
      "display_name": "Python 3"
    },
    "language_info": {
      "name": "python"
    }
  },
  "cells": [
    {
      "cell_type": "markdown",
      "metadata": {
        "id": "view-in-github",
        "colab_type": "text"
      },
      "source": [
        "<a href=\"https://colab.research.google.com/github/keithferns98/TimeSeriesAnalysis/blob/main/Multivariate_VectorAutoRegression.ipynb\" target=\"_parent\"><img src=\"https://colab.research.google.com/assets/colab-badge.svg\" alt=\"Open In Colab\"/></a>"
      ]
    },
    {
      "cell_type": "code",
      "metadata": {
        "colab": {
          "base_uri": "https://localhost:8080/"
        },
        "id": "hA-c4FgXDNFA",
        "outputId": "30d3ca89-929b-4580-d8e9-1bded4665679"
      },
      "source": [
        "from statsmodels.graphics.tsaplots import plot_acf,plot_pacf\n",
        "from statsmodels.tsa.statespace.varmax import VARMAX\n",
        "from statsmodels.tsa.stattools import grangercausalitytests,adfuller\n",
        "from tqdm import tqdm_notebook\n",
        "from itertools import product\n",
        "\n",
        "import matplotlib.pyplot as plt\n",
        "import statsmodels.api as sm\n",
        "import pandas as pd\n",
        "import numpy as np\n",
        "import warnings \n",
        "warnings.filterwarnings('ignore')"
      ],
      "execution_count": 1,
      "outputs": [
        {
          "output_type": "stream",
          "text": [
            "/usr/local/lib/python3.7/dist-packages/statsmodels/tools/_testing.py:19: FutureWarning: pandas.util.testing is deprecated. Use the functions in the public API at pandas.testing instead.\n",
            "  import pandas.util.testing as tm\n"
          ],
          "name": "stderr"
        }
      ]
    },
    {
      "cell_type": "markdown",
      "metadata": {
        "id": "HsuN8fEiEeu2"
      },
      "source": [
        "VECTOR AUTO REGRESSION EQUATION"
      ]
    },
    {
      "cell_type": "code",
      "metadata": {
        "colab": {
          "base_uri": "https://localhost:8080/",
          "height": 250
        },
        "id": "cc-bckHsEyy9",
        "outputId": "d2e6b069-31db-4c1a-c865-c46c65179bb5"
      },
      "source": [
        "filepath='https://raw.githubusercontent.com/selva86/datasets/master/Raotbl6.csv'\n",
        "macro_data=pd.read_csv(filepath,parse_dates=['date'],index_col='date')\n",
        "print(macro_data.shape)\n",
        "macro_data.head()"
      ],
      "execution_count": 2,
      "outputs": [
        {
          "output_type": "stream",
          "text": [
            "(123, 8)\n"
          ],
          "name": "stdout"
        },
        {
          "output_type": "execute_result",
          "data": {
            "text/html": [
              "<div>\n",
              "<style scoped>\n",
              "    .dataframe tbody tr th:only-of-type {\n",
              "        vertical-align: middle;\n",
              "    }\n",
              "\n",
              "    .dataframe tbody tr th {\n",
              "        vertical-align: top;\n",
              "    }\n",
              "\n",
              "    .dataframe thead th {\n",
              "        text-align: right;\n",
              "    }\n",
              "</style>\n",
              "<table border=\"1\" class=\"dataframe\">\n",
              "  <thead>\n",
              "    <tr style=\"text-align: right;\">\n",
              "      <th></th>\n",
              "      <th>rgnp</th>\n",
              "      <th>pgnp</th>\n",
              "      <th>ulc</th>\n",
              "      <th>gdfco</th>\n",
              "      <th>gdf</th>\n",
              "      <th>gdfim</th>\n",
              "      <th>gdfcf</th>\n",
              "      <th>gdfce</th>\n",
              "    </tr>\n",
              "    <tr>\n",
              "      <th>date</th>\n",
              "      <th></th>\n",
              "      <th></th>\n",
              "      <th></th>\n",
              "      <th></th>\n",
              "      <th></th>\n",
              "      <th></th>\n",
              "      <th></th>\n",
              "      <th></th>\n",
              "    </tr>\n",
              "  </thead>\n",
              "  <tbody>\n",
              "    <tr>\n",
              "      <th>1959-01-01</th>\n",
              "      <td>1606.4</td>\n",
              "      <td>1608.3</td>\n",
              "      <td>47.5</td>\n",
              "      <td>36.9</td>\n",
              "      <td>37.4</td>\n",
              "      <td>26.9</td>\n",
              "      <td>32.3</td>\n",
              "      <td>23.1</td>\n",
              "    </tr>\n",
              "    <tr>\n",
              "      <th>1959-04-01</th>\n",
              "      <td>1637.0</td>\n",
              "      <td>1622.2</td>\n",
              "      <td>47.5</td>\n",
              "      <td>37.4</td>\n",
              "      <td>37.5</td>\n",
              "      <td>27.0</td>\n",
              "      <td>32.2</td>\n",
              "      <td>23.4</td>\n",
              "    </tr>\n",
              "    <tr>\n",
              "      <th>1959-07-01</th>\n",
              "      <td>1629.5</td>\n",
              "      <td>1636.2</td>\n",
              "      <td>48.7</td>\n",
              "      <td>37.6</td>\n",
              "      <td>37.6</td>\n",
              "      <td>27.1</td>\n",
              "      <td>32.4</td>\n",
              "      <td>23.4</td>\n",
              "    </tr>\n",
              "    <tr>\n",
              "      <th>1959-10-01</th>\n",
              "      <td>1643.4</td>\n",
              "      <td>1650.3</td>\n",
              "      <td>48.8</td>\n",
              "      <td>37.7</td>\n",
              "      <td>37.8</td>\n",
              "      <td>27.1</td>\n",
              "      <td>32.5</td>\n",
              "      <td>23.8</td>\n",
              "    </tr>\n",
              "    <tr>\n",
              "      <th>1960-01-01</th>\n",
              "      <td>1671.6</td>\n",
              "      <td>1664.6</td>\n",
              "      <td>49.1</td>\n",
              "      <td>37.8</td>\n",
              "      <td>37.8</td>\n",
              "      <td>27.2</td>\n",
              "      <td>32.4</td>\n",
              "      <td>23.8</td>\n",
              "    </tr>\n",
              "  </tbody>\n",
              "</table>\n",
              "</div>"
            ],
            "text/plain": [
              "              rgnp    pgnp   ulc  gdfco   gdf  gdfim  gdfcf  gdfce\n",
              "date                                                              \n",
              "1959-01-01  1606.4  1608.3  47.5   36.9  37.4   26.9   32.3   23.1\n",
              "1959-04-01  1637.0  1622.2  47.5   37.4  37.5   27.0   32.2   23.4\n",
              "1959-07-01  1629.5  1636.2  48.7   37.6  37.6   27.1   32.4   23.4\n",
              "1959-10-01  1643.4  1650.3  48.8   37.7  37.8   27.1   32.5   23.8\n",
              "1960-01-01  1671.6  1664.6  49.1   37.8  37.8   27.2   32.4   23.8"
            ]
          },
          "metadata": {
            "tags": []
          },
          "execution_count": 2
        }
      ]
    },
    {
      "cell_type": "code",
      "metadata": {
        "colab": {
          "base_uri": "https://localhost:8080/",
          "height": 407
        },
        "id": "irgzirSvFWtd",
        "outputId": "addcfec8-5437-4476-ac2a-dfb374061955"
      },
      "source": [
        "fig,axes=plt.subplots(nrows=4,ncols=2,dpi=120,figsize=(10,6))\n",
        "for i,ax in enumerate(axes.flatten()):\n",
        "  data= macro_data[macro_data.columns[i]]\n",
        "  ax.plot(data,color='red',linewidth=1)\n",
        "  ax.set_title(macro_data.columns[i])\n",
        "  ax.xaxis.set_ticks_position('none')\n",
        "  ax.yaxis.set_ticks_position('none')\n",
        "  ax.spines['top'].set_alpha(0)\n",
        "  ax.tick_params(labelsize=6)"
      ],
      "execution_count": 5,
      "outputs": [
        {
          "output_type": "display_data",
          "data": {
            "image/png": "[encoded data removed]",
            "text/plain": [
              "<Figure size 1200x720 with 8 Axes>"
            ]
          },
          "metadata": {
            "tags": [],
            "needs_background": "light"
          }
        }
      ]
    },
    {
      "cell_type": "code",
      "metadata": {
        "colab": {
          "base_uri": "https://localhost:8080/"
        },
        "id": "a807_whbHy2I",
        "outputId": "5d2e1f2c-ce68-4fb4-ed08-fa822f54e5f9"
      },
      "source": [
        "ad_fuller_result_1=adfuller(macro_data['rgnp'].diff()[1:])\n",
        "print('realgdp')\n",
        "print(f'ADF statistics:{ad_fuller_result_1[0]}')\n",
        "print(f'p-value:{ad_fuller_result_1[1]}')\n",
        "print('\\n------------\\n')\n",
        "\n",
        "ad_fuller_result_2=adfuller(macro_data['ulc'].diff()[1:])\n",
        "print('realcons')\n",
        "print(f'ADF statistics.{ad_fuller_result_2[0]}')\n",
        "print(f'p-value.{ad_fuller_result_2[1]}')"
      ],
      "execution_count": 7,
      "outputs": [
        {
          "output_type": "stream",
          "text": [
            "realgdp\n",
            "ADF statistics:-5.427594381007333\n",
            "p-value:2.9633019848469254e-06\n",
            "\n",
            "------------\n",
            "\n",
            "realcons\n",
            "ADF statistics.-3.5760804731509097\n",
            "p-value.0.0062351318302382\n"
          ],
          "name": "stdout"
        }
      ]
    },
    {
      "cell_type": "code",
      "metadata": {
        "colab": {
          "base_uri": "https://localhost:8080/"
        },
        "id": "WBZbFLCEJdVz",
        "outputId": "27277760-5724-41b8-ba15-f29363df24cf"
      },
      "source": [
        "macro_data['rgnp'].diff()[1:]"
      ],
      "execution_count": 9,
      "outputs": [
        {
          "output_type": "execute_result",
          "data": {
            "text/plain": [
              "date\n",
              "1959-04-01    30.6\n",
              "1959-07-01    -7.5\n",
              "1959-10-01    13.9\n",
              "1960-01-01    28.2\n",
              "1960-04-01    -4.8\n",
              "              ... \n",
              "1988-07-01    32.0\n",
              "1988-10-01    26.7\n",
              "1989-01-01    37.4\n",
              "1989-04-01    25.7\n",
              "1989-07-01    30.4\n",
              "Name: rgnp, Length: 122, dtype: float64"
            ]
          },
          "metadata": {
            "tags": []
          },
          "execution_count": 9
        }
      ]
    },
    {
      "cell_type": "code",
      "metadata": {
        "colab": {
          "base_uri": "https://localhost:8080/"
        },
        "id": "Cs-iI15HKLky",
        "outputId": "9bc9429b-ecd6-453f-b0df-118591c3076f"
      },
      "source": [
        "\n",
        "print('rgnp causes ulc?\\n')\n",
        "print('------------------')\n",
        "granger_1 = grangercausalitytests(macro_data[['ulc', 'rgnp']], 4)\n",
        "\n",
        "print('\\nulc causes rgnp?\\n')\n",
        "print('------------------')\n",
        "granger_2 = grangercausalitytests(macro_data[['rgnp', 'ulc']], 4)\n"
      ],
      "execution_count": 10,
      "outputs": [
        {
          "output_type": "stream",
          "text": [
            "rgnp causes ulc?\n",
            "\n",
            "------------------\n",
            "\n",
            "Granger Causality\n",
            "number of lags (no zero) 1\n",
            "ssr based F test:         F=22.3802 , p=0.0000  , df_denom=119, df_num=1\n",
            "ssr based chi2 test:   chi2=22.9444 , p=0.0000  , df=1\n",
            "likelihood ratio test: chi2=21.0242 , p=0.0000  , df=1\n",
            "parameter F test:         F=22.3802 , p=0.0000  , df_denom=119, df_num=1\n",
            "\n",
            "Granger Causality\n",
            "number of lags (no zero) 2\n",
            "ssr based F test:         F=7.7188  , p=0.0007  , df_denom=116, df_num=2\n",
            "ssr based chi2 test:   chi2=16.1029 , p=0.0003  , df=2\n",
            "likelihood ratio test: chi2=15.1179 , p=0.0005  , df=2\n",
            "parameter F test:         F=7.7188  , p=0.0007  , df_denom=116, df_num=2\n",
            "\n",
            "Granger Causality\n",
            "number of lags (no zero) 3\n",
            "ssr based F test:         F=7.5231  , p=0.0001  , df_denom=113, df_num=3\n",
            "ssr based chi2 test:   chi2=23.9675 , p=0.0000  , df=3\n",
            "likelihood ratio test: chi2=21.8515 , p=0.0001  , df=3\n",
            "parameter F test:         F=7.5231  , p=0.0001  , df_denom=113, df_num=3\n",
            "\n",
            "Granger Causality\n",
            "number of lags (no zero) 4\n",
            "ssr based F test:         F=8.3018  , p=0.0000  , df_denom=110, df_num=4\n",
            "ssr based chi2 test:   chi2=35.9239 , p=0.0000  , df=4\n",
            "likelihood ratio test: chi2=31.3935 , p=0.0000  , df=4\n",
            "parameter F test:         F=8.3018  , p=0.0000  , df_denom=110, df_num=4\n",
            "\n",
            "ulc causes rgnp?\n",
            "\n",
            "------------------\n",
            "\n",
            "Granger Causality\n",
            "number of lags (no zero) 1\n",
            "ssr based F test:         F=0.3729  , p=0.5426  , df_denom=119, df_num=1\n",
            "ssr based chi2 test:   chi2=0.3823  , p=0.5364  , df=1\n",
            "likelihood ratio test: chi2=0.3817  , p=0.5367  , df=1\n",
            "parameter F test:         F=0.3729  , p=0.5426  , df_denom=119, df_num=1\n",
            "\n",
            "Granger Causality\n",
            "number of lags (no zero) 2\n",
            "ssr based F test:         F=4.6201  , p=0.0117  , df_denom=116, df_num=2\n",
            "ssr based chi2 test:   chi2=9.6386  , p=0.0081  , df=2\n",
            "likelihood ratio test: chi2=9.2739  , p=0.0097  , df=2\n",
            "parameter F test:         F=4.6201  , p=0.0117  , df_denom=116, df_num=2\n",
            "\n",
            "Granger Causality\n",
            "number of lags (no zero) 3\n",
            "ssr based F test:         F=4.0976  , p=0.0084  , df_denom=113, df_num=3\n",
            "ssr based chi2 test:   chi2=13.0544 , p=0.0045  , df=3\n",
            "likelihood ratio test: chi2=12.3920 , p=0.0062  , df=3\n",
            "parameter F test:         F=4.0976  , p=0.0084  , df_denom=113, df_num=3\n",
            "\n",
            "Granger Causality\n",
            "number of lags (no zero) 4\n",
            "ssr based F test:         F=5.4664  , p=0.0005  , df_denom=110, df_num=4\n",
            "ssr based chi2 test:   chi2=23.6547 , p=0.0001  , df=4\n",
            "likelihood ratio test: chi2=21.5751 , p=0.0002  , df=4\n",
            "parameter F test:         F=5.4664  , p=0.0005  , df_denom=110, df_num=4\n"
          ],
          "name": "stdout"
        }
      ]
    },
    {
      "cell_type": "code",
      "metadata": {
        "colab": {
          "base_uri": "https://localhost:8080/"
        },
        "id": "XVXOh8ArLzJU",
        "outputId": "67de8734-9553-4e02-fe39-54350ae4d83f"
      },
      "source": [
        "macro_data_1=macro_data[['ulc','rgnp']]\n",
        "print(macro_data.shape)"
      ],
      "execution_count": 11,
      "outputs": [
        {
          "output_type": "stream",
          "text": [
            "(123, 8)\n"
          ],
          "name": "stdout"
        }
      ]
    },
    {
      "cell_type": "code",
      "metadata": {
        "id": "kBYiW-7wMQ6u"
      },
      "source": [
        "train_df=macro_data_1[:-12]\n",
        "test_df=macro_data_1[-12:]"
      ],
      "execution_count": 12,
      "outputs": []
    },
    {
      "cell_type": "code",
      "metadata": {
        "colab": {
          "base_uri": "https://localhost:8080/"
        },
        "id": "Sj9xBSNBMfEp",
        "outputId": "2af54862-05f2-4109-9041-fb7c049d94b9"
      },
      "source": [
        "print(test_df.shape)"
      ],
      "execution_count": 15,
      "outputs": [
        {
          "output_type": "stream",
          "text": [
            "(12, 2)\n"
          ],
          "name": "stdout"
        }
      ]
    },
    {
      "cell_type": "code",
      "metadata": {
        "id": "Hdn7xlUFMjh6"
      },
      "source": [
        "from statsmodels.tsa.api import VAR"
      ],
      "execution_count": 16,
      "outputs": []
    },
    {
      "cell_type": "code",
      "metadata": {
        "id": "p0cMbSBXMv7q"
      },
      "source": [
        "model=VAR(train_df.diff()[1:])\n"
      ],
      "execution_count": 17,
      "outputs": []
    },
    {
      "cell_type": "code",
      "metadata": {
        "colab": {
          "base_uri": "https://localhost:8080/"
        },
        "id": "AHHIttlSNS8N",
        "outputId": "fbbc6f1e-9106-449e-95dc-73dbc2983580"
      },
      "source": [
        "sorted_order=model.select_order(maxlags=20)\n",
        "print(sorted_order.summary())"
      ],
      "execution_count": 18,
      "outputs": [
        {
          "output_type": "stream",
          "text": [
            " VAR Order Selection (* highlights the minimums)  \n",
            "==================================================\n",
            "       AIC         BIC         FPE         HQIC   \n",
            "--------------------------------------------------\n",
            "0        6.778       6.834       878.3       6.800\n",
            "1        5.988      6.154*       398.5       6.055\n",
            "2        5.942       6.220       380.9       6.054\n",
            "3        5.933       6.322       377.4       6.090\n",
            "4       5.793*       6.293      328.5*      5.995*\n",
            "5        5.873       6.484       356.3       6.120\n",
            "6        5.828       6.550       341.1       6.119\n",
            "7        5.894       6.727       365.0       6.230\n",
            "8        5.890       6.835       364.8       6.271\n",
            "9        5.942       6.998       385.8       6.368\n",
            "10       5.930       7.097       382.9       6.401\n",
            "11       5.913       7.191       378.5       6.428\n",
            "12       5.885       7.274       370.7       6.445\n",
            "13       5.925       7.424       388.6       6.529\n",
            "14       5.882       7.493       376.0       6.532\n",
            "15       5.950       7.672       406.9       6.644\n",
            "16       5.933       7.766       405.3       6.672\n",
            "17       5.947       7.891       417.1       6.731\n",
            "18       5.935       7.990       419.2       6.764\n",
            "19       5.964       8.130       439.9       6.838\n",
            "20       5.955       8.233       445.6       6.873\n",
            "--------------------------------------------------\n"
          ],
          "name": "stdout"
        }
      ]
    },
    {
      "cell_type": "code",
      "metadata": {
        "colab": {
          "base_uri": "https://localhost:8080/"
        },
        "id": "PZdLoq0yNfgK",
        "outputId": "14a0cd47-e945-41e5-fdfc-f119454f02b8"
      },
      "source": [
        "var_model = VARMAX(train_df, order=(4,0),enforce_stationarity= True)\n",
        "fitted_model = var_model.fit(disp=False)\n",
        "print(fitted_model.summary())"
      ],
      "execution_count": 19,
      "outputs": [
        {
          "output_type": "stream",
          "text": [
            "                           Statespace Model Results                           \n",
            "==============================================================================\n",
            "Dep. Variable:        ['ulc', 'rgnp']   No. Observations:                  111\n",
            "Model:                         VAR(4)   Log Likelihood              -11857.868\n",
            "                          + intercept   AIC                          23757.736\n",
            "Date:                Wed, 11 Aug 2021   BIC                          23814.636\n",
            "Time:                        08:14:06   HQIC                         23780.818\n",
            "Sample:                    01-01-1959                                         \n",
            "                         - 07-01-1986                                         \n",
            "Covariance Type:                  opg                                         \n",
            "===================================================================================\n",
            "Ljung-Box (Q):               83.84, 724.67   Jarque-Bera (JB):         18.17, 13.83\n",
            "Prob(Q):                        0.00, 0.00   Prob(JB):                   0.00, 0.00\n",
            "Heteroskedasticity (H):         1.62, 0.28   Skew:                      0.61, -0.86\n",
            "Prob(H) (two-sided):            0.15, 0.00   Kurtosis:                   4.56, 2.87\n",
            "                           Results for equation ulc                           \n",
            "==============================================================================\n",
            "                 coef    std err          z      P>|z|      [0.025      0.975]\n",
            "------------------------------------------------------------------------------\n",
            "intercept     89.2221     22.408      3.982      0.000      45.303     133.142\n",
            "L1.ulc        -0.8301      1.159     -0.716      0.474      -3.101       1.441\n",
            "L1.rgnp       -0.6112      0.300     -2.040      0.041      -1.198      -0.024\n",
            "L2.ulc        -0.3761      3.043     -0.124      0.902      -6.341       5.588\n",
            "L2.rgnp        0.2051      0.384      0.534      0.593      -0.547       0.957\n",
            "L3.ulc         1.3993      1.044      1.341      0.180      -0.646       3.445\n",
            "L3.rgnp        0.5005      0.362      1.382      0.167      -0.210       1.210\n",
            "L4.ulc         1.4253      3.502      0.407      0.684      -5.439       8.289\n",
            "L4.rgnp       -0.1480      0.101     -1.459      0.145      -0.347       0.051\n",
            "                          Results for equation rgnp                           \n",
            "==============================================================================\n",
            "                 coef    std err          z      P>|z|      [0.025      0.975]\n",
            "------------------------------------------------------------------------------\n",
            "intercept   2614.7930     54.279     48.173      0.000    2508.408    2721.178\n",
            "L1.ulc         2.1695      1.016      2.136      0.033       0.179       4.160\n",
            "L1.rgnp       -1.3965      0.306     -4.561      0.000      -1.997      -0.796\n",
            "L2.ulc         4.9702      1.523      3.263      0.001       1.985       7.956\n",
            "L2.rgnp        0.8406      0.189      4.445      0.000       0.470       1.211\n",
            "L3.ulc         7.3225      0.936      7.819      0.000       5.487       9.158\n",
            "L3.rgnp        0.4715      0.259      1.819      0.069      -0.036       0.980\n",
            "L4.ulc         3.6408      1.595      2.283      0.022       0.515       6.767\n",
            "L4.rgnp       -0.4832      0.072     -6.717      0.000      -0.624      -0.342\n",
            "                               Error covariance matrix                               \n",
            "=====================================================================================\n",
            "                        coef    std err          z      P>|z|      [0.025      0.975]\n",
            "-------------------------------------------------------------------------------------\n",
            "sqrt.var.ulc         40.1224      7.938      5.054      0.000      24.564      55.681\n",
            "sqrt.cov.ulc.rgnp   -15.4101     17.309     -0.890      0.373     -49.336      18.516\n",
            "sqrt.var.rgnp        26.6484      0.326     81.844      0.000      26.010      27.287\n",
            "=====================================================================================\n",
            "\n",
            "Warnings:\n",
            "[1] Covariance matrix calculated using the outer product of gradients (complex-step).\n",
            "[2] Covariance matrix is singular or near-singular, with condition number 3.41e+16. Standard errors may be unstable.\n"
          ],
          "name": "stdout"
        }
      ]
    },
    {
      "cell_type": "code",
      "metadata": {
        "id": "pUgU9zxERo_i"
      },
      "source": [
        "n_forecast = 12\n",
        "predict = fitted_model.get_prediction(start=len(train_df),end=len(train_df) + n_forecast-1)#start=\"1989-07-01\",end='1999-01-01')\n",
        "\n",
        "predictions=predict.predicted_mean"
      ],
      "execution_count": 20,
      "outputs": []
    },
    {
      "cell_type": "code",
      "metadata": {
        "colab": {
          "base_uri": "https://localhost:8080/",
          "height": 416
        },
        "id": "vLvpXk1iSOZg",
        "outputId": "2942ff7b-329d-4bff-b21d-a356d4e24cfb"
      },
      "source": [
        "predictions.columns=['ulc_predicted','rgnp_prediced']\n",
        "predictions"
      ],
      "execution_count": 21,
      "outputs": [
        {
          "output_type": "execute_result",
          "data": {
            "text/html": [
              "<div>\n",
              "<style scoped>\n",
              "    .dataframe tbody tr th:only-of-type {\n",
              "        vertical-align: middle;\n",
              "    }\n",
              "\n",
              "    .dataframe tbody tr th {\n",
              "        vertical-align: top;\n",
              "    }\n",
              "\n",
              "    .dataframe thead th {\n",
              "        text-align: right;\n",
              "    }\n",
              "</style>\n",
              "<table border=\"1\" class=\"dataframe\">\n",
              "  <thead>\n",
              "    <tr style=\"text-align: right;\">\n",
              "      <th></th>\n",
              "      <th>ulc_predicted</th>\n",
              "      <th>rgnp_prediced</th>\n",
              "    </tr>\n",
              "  </thead>\n",
              "  <tbody>\n",
              "    <tr>\n",
              "      <th>1986-10-01</th>\n",
              "      <td>166.083739</td>\n",
              "      <td>3565.157919</td>\n",
              "    </tr>\n",
              "    <tr>\n",
              "      <th>1987-01-01</th>\n",
              "      <td>245.901672</td>\n",
              "      <td>3756.340425</td>\n",
              "    </tr>\n",
              "    <tr>\n",
              "      <th>1987-04-01</th>\n",
              "      <td>47.634923</td>\n",
              "      <td>3552.384303</td>\n",
              "    </tr>\n",
              "    <tr>\n",
              "      <th>1987-07-01</th>\n",
              "      <td>267.915191</td>\n",
              "      <td>3863.657398</td>\n",
              "    </tr>\n",
              "    <tr>\n",
              "      <th>1987-10-01</th>\n",
              "      <td>149.410651</td>\n",
              "      <td>3477.136094</td>\n",
              "    </tr>\n",
              "    <tr>\n",
              "      <th>1988-01-01</th>\n",
              "      <td>170.990200</td>\n",
              "      <td>3766.534506</td>\n",
              "    </tr>\n",
              "    <tr>\n",
              "      <th>1988-04-01</th>\n",
              "      <td>153.087614</td>\n",
              "      <td>3631.805315</td>\n",
              "    </tr>\n",
              "    <tr>\n",
              "      <th>1988-07-01</th>\n",
              "      <td>210.188533</td>\n",
              "      <td>3733.201868</td>\n",
              "    </tr>\n",
              "    <tr>\n",
              "      <th>1988-10-01</th>\n",
              "      <td>143.232496</td>\n",
              "      <td>3563.056652</td>\n",
              "    </tr>\n",
              "    <tr>\n",
              "      <th>1989-01-01</th>\n",
              "      <td>197.580349</td>\n",
              "      <td>3768.538810</td>\n",
              "    </tr>\n",
              "    <tr>\n",
              "      <th>1989-04-01</th>\n",
              "      <td>142.226293</td>\n",
              "      <td>3589.543301</td>\n",
              "    </tr>\n",
              "    <tr>\n",
              "      <th>1989-07-01</th>\n",
              "      <td>206.825173</td>\n",
              "      <td>3750.644549</td>\n",
              "    </tr>\n",
              "  </tbody>\n",
              "</table>\n",
              "</div>"
            ],
            "text/plain": [
              "            ulc_predicted  rgnp_prediced\n",
              "1986-10-01     166.083739    3565.157919\n",
              "1987-01-01     245.901672    3756.340425\n",
              "1987-04-01      47.634923    3552.384303\n",
              "1987-07-01     267.915191    3863.657398\n",
              "1987-10-01     149.410651    3477.136094\n",
              "1988-01-01     170.990200    3766.534506\n",
              "1988-04-01     153.087614    3631.805315\n",
              "1988-07-01     210.188533    3733.201868\n",
              "1988-10-01     143.232496    3563.056652\n",
              "1989-01-01     197.580349    3768.538810\n",
              "1989-04-01     142.226293    3589.543301\n",
              "1989-07-01     206.825173    3750.644549"
            ]
          },
          "metadata": {
            "tags": []
          },
          "execution_count": 21
        }
      ]
    },
    {
      "cell_type": "code",
      "metadata": {
        "colab": {
          "base_uri": "https://localhost:8080/",
          "height": 202
        },
        "id": "EI3gWDydSZ2N",
        "outputId": "87483d32-0dd1-4cbd-dc25-1a138f0c1519"
      },
      "source": [
        "predictions.tail()"
      ],
      "execution_count": 22,
      "outputs": [
        {
          "output_type": "execute_result",
          "data": {
            "text/html": [
              "<div>\n",
              "<style scoped>\n",
              "    .dataframe tbody tr th:only-of-type {\n",
              "        vertical-align: middle;\n",
              "    }\n",
              "\n",
              "    .dataframe tbody tr th {\n",
              "        vertical-align: top;\n",
              "    }\n",
              "\n",
              "    .dataframe thead th {\n",
              "        text-align: right;\n",
              "    }\n",
              "</style>\n",
              "<table border=\"1\" class=\"dataframe\">\n",
              "  <thead>\n",
              "    <tr style=\"text-align: right;\">\n",
              "      <th></th>\n",
              "      <th>ulc_predicted</th>\n",
              "      <th>rgnp_prediced</th>\n",
              "    </tr>\n",
              "  </thead>\n",
              "  <tbody>\n",
              "    <tr>\n",
              "      <th>1988-07-01</th>\n",
              "      <td>210.188533</td>\n",
              "      <td>3733.201868</td>\n",
              "    </tr>\n",
              "    <tr>\n",
              "      <th>1988-10-01</th>\n",
              "      <td>143.232496</td>\n",
              "      <td>3563.056652</td>\n",
              "    </tr>\n",
              "    <tr>\n",
              "      <th>1989-01-01</th>\n",
              "      <td>197.580349</td>\n",
              "      <td>3768.538810</td>\n",
              "    </tr>\n",
              "    <tr>\n",
              "      <th>1989-04-01</th>\n",
              "      <td>142.226293</td>\n",
              "      <td>3589.543301</td>\n",
              "    </tr>\n",
              "    <tr>\n",
              "      <th>1989-07-01</th>\n",
              "      <td>206.825173</td>\n",
              "      <td>3750.644549</td>\n",
              "    </tr>\n",
              "  </tbody>\n",
              "</table>\n",
              "</div>"
            ],
            "text/plain": [
              "            ulc_predicted  rgnp_prediced\n",
              "1988-07-01     210.188533    3733.201868\n",
              "1988-10-01     143.232496    3563.056652\n",
              "1989-01-01     197.580349    3768.538810\n",
              "1989-04-01     142.226293    3589.543301\n",
              "1989-07-01     206.825173    3750.644549"
            ]
          },
          "metadata": {
            "tags": []
          },
          "execution_count": 22
        }
      ]
    },
    {
      "cell_type": "code",
      "metadata": {
        "id": "1HI8HinhSfw4"
      },
      "source": [
        "test_vs_pred=pd.concat([test_df,predictions],axis=1)"
      ],
      "execution_count": 23,
      "outputs": []
    },
    {
      "cell_type": "code",
      "metadata": {
        "colab": {
          "base_uri": "https://localhost:8080/",
          "height": 307
        },
        "id": "uHrK9LACTUts",
        "outputId": "cb11cd96-c168-490b-ea22-22c0dc527c32"
      },
      "source": [
        "test_vs_pred.plot(figsize=(12,5))\n"
      ],
      "execution_count": 25,
      "outputs": [
        {
          "output_type": "execute_result",
          "data": {
            "text/plain": [
              "<matplotlib.axes._subplots.AxesSubplot at 0x7fbaa1f52cd0>"
            ]
          },
          "metadata": {
            "tags": []
          },
          "execution_count": 25
        },
        {
          "output_type": "display_data",
          "data": {
            "image/png": "[encoded data removed]",
            "text/plain": [
              "<Figure size 864x360 with 1 Axes>"
            ]
          },
          "metadata": {
            "tags": [],
            "needs_background": "light"
          }
        }
      ]
    },
    {
      "cell_type": "code",
      "metadata": {
        "colab": {
          "base_uri": "https://localhost:8080/",
          "height": 232
        },
        "id": "xD_tWC9ETZTy",
        "outputId": "d802d71b-459d-4dc3-ae0c-35f130bec40a"
      },
      "source": [
        "test_df.head()"
      ],
      "execution_count": 27,
      "outputs": [
        {
          "output_type": "execute_result",
          "data": {
            "text/html": [
              "<div>\n",
              "<style scoped>\n",
              "    .dataframe tbody tr th:only-of-type {\n",
              "        vertical-align: middle;\n",
              "    }\n",
              "\n",
              "    .dataframe tbody tr th {\n",
              "        vertical-align: top;\n",
              "    }\n",
              "\n",
              "    .dataframe thead th {\n",
              "        text-align: right;\n",
              "    }\n",
              "</style>\n",
              "<table border=\"1\" class=\"dataframe\">\n",
              "  <thead>\n",
              "    <tr style=\"text-align: right;\">\n",
              "      <th></th>\n",
              "      <th>ulc</th>\n",
              "      <th>rgnp</th>\n",
              "    </tr>\n",
              "    <tr>\n",
              "      <th>date</th>\n",
              "      <th></th>\n",
              "      <th></th>\n",
              "    </tr>\n",
              "  </thead>\n",
              "  <tbody>\n",
              "    <tr>\n",
              "      <th>1986-10-01</th>\n",
              "      <td>173.2</td>\n",
              "      <td>3733.6</td>\n",
              "    </tr>\n",
              "    <tr>\n",
              "      <th>1987-01-01</th>\n",
              "      <td>173.6</td>\n",
              "      <td>3783.0</td>\n",
              "    </tr>\n",
              "    <tr>\n",
              "      <th>1987-04-01</th>\n",
              "      <td>173.4</td>\n",
              "      <td>3823.5</td>\n",
              "    </tr>\n",
              "    <tr>\n",
              "      <th>1987-07-01</th>\n",
              "      <td>173.9</td>\n",
              "      <td>3872.8</td>\n",
              "    </tr>\n",
              "    <tr>\n",
              "      <th>1987-10-01</th>\n",
              "      <td>175.8</td>\n",
              "      <td>3935.6</td>\n",
              "    </tr>\n",
              "  </tbody>\n",
              "</table>\n",
              "</div>"
            ],
            "text/plain": [
              "              ulc    rgnp\n",
              "date                     \n",
              "1986-10-01  173.2  3733.6\n",
              "1987-01-01  173.6  3783.0\n",
              "1987-04-01  173.4  3823.5\n",
              "1987-07-01  173.9  3872.8\n",
              "1987-10-01  175.8  3935.6"
            ]
          },
          "metadata": {
            "tags": []
          },
          "execution_count": 27
        }
      ]
    },
    {
      "cell_type": "code",
      "metadata": {
        "id": "UVOYmCXGVnqS"
      },
      "source": [
        ""
      ],
      "execution_count": null,
      "outputs": []
    },
    {
      "cell_type": "code",
      "metadata": {
        "id": "RJCqEykZTit5"
      },
      "source": [
        "from sklearn.metrics import mean_squared_error\n",
        "import math\n",
        "from statistics import mean"
      ],
      "execution_count": 33,
      "outputs": []
    },
    {
      "cell_type": "code",
      "metadata": {
        "colab": {
          "base_uri": "https://localhost:8080/"
        },
        "id": "DHIBExwJTyLz",
        "outputId": "724cf4ff-2a37-49dc-b4f4-ac6876565011"
      },
      "source": [
        "rmse_ulc=math.sqrt(mean_squared_error(predictions['ulc_predicted'],test_df['ulc']))\n",
        "print('Mean value of Ulc is {} and rmse is{}'.format(mean(test_df['ulc']),rmse_ulc))"
      ],
      "execution_count": 29,
      "outputs": [
        {
          "output_type": "stream",
          "text": [
            "Mean value of Ulc is 178.56666666666666 and rmse is54.906898811679284\n"
          ],
          "name": "stdout"
        }
      ]
    },
    {
      "cell_type": "code",
      "metadata": {
        "colab": {
          "base_uri": "https://localhost:8080/"
        },
        "id": "j_feXemSUrFD",
        "outputId": "ac73390a-2ea5-40db-f4b7-21b7f1d924bc"
      },
      "source": [
        "rmse_rgnp=math.sqrt(mean_squared_error(predictions['rgnp_prediced'],test_df['rgnp']))\n",
        "print('Mean value of rgnp is{} and rmse_rgnp is {}'.format(mean(test_df['rgnp']),rmse_rgnp))"
      ],
      "execution_count": 36,
      "outputs": [
        {
          "output_type": "stream",
          "text": [
            "Mean value of rgnp is3970.6916666666666 and rmse_rgnp is 345.3434852726223\n"
          ],
          "name": "stdout"
        }
      ]
    },
    {
      "cell_type": "code",
      "metadata": {
        "id": "Fib_VVKSVPPi"
      },
      "source": [
        ""
      ],
      "execution_count": null,
      "outputs": []
    }
  ]
}